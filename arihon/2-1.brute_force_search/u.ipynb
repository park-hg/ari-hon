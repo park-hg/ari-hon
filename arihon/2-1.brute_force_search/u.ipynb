{
 "metadata": {
  "language_info": {
   "codemirror_mode": {
    "name": "ipython",
    "version": 3
   },
   "file_extension": ".py",
   "mimetype": "text/x-python",
   "name": "python",
   "nbconvert_exporter": "python",
   "pygments_lexer": "ipython3",
   "version": "3.8.5"
  },
  "orig_nbformat": 2,
  "kernelspec": {
   "name": "python385jvsc74a57bd0e3b39910ab334123a096ee744da4026b5d818caa1feb567baeec9892844f85c8",
   "display_name": "Python 3.8.5 64-bit ('base': conda)"
  }
 },
 "nbformat": 4,
 "nbformat_minor": 2,
 "cells": [
  {
   "cell_type": "code",
   "execution_count": 2,
   "metadata": {},
   "outputs": [
    {
     "output_type": "execute_result",
     "data": {
      "text/plain": [
       "['1', '1']"
      ]
     },
     "metadata": {},
     "execution_count": 2
    }
   ],
   "source": [
    "list(str(11))"
   ]
  },
  {
   "cell_type": "code",
   "execution_count": 3,
   "metadata": {},
   "outputs": [],
   "source": [
    "from collections import deque"
   ]
  },
  {
   "cell_type": "code",
   "execution_count": 25,
   "metadata": {},
   "outputs": [],
   "source": [
    "que = deque([(0,0)])"
   ]
  },
  {
   "cell_type": "code",
   "execution_count": 26,
   "metadata": {},
   "outputs": [],
   "source": [
    "x,y = que.popleft()"
   ]
  },
  {
   "cell_type": "code",
   "execution_count": 28,
   "metadata": {},
   "outputs": [
    {
     "output_type": "execute_result",
     "data": {
      "text/plain": [
       "0"
      ]
     },
     "metadata": {},
     "execution_count": 28
    }
   ],
   "source": [
    "x"
   ]
  },
  {
   "cell_type": "code",
   "execution_count": 29,
   "metadata": {},
   "outputs": [
    {
     "output_type": "execute_result",
     "data": {
      "text/plain": [
       "0"
      ]
     },
     "metadata": {},
     "execution_count": 29
    }
   ],
   "source": [
    "y"
   ]
  },
  {
   "cell_type": "code",
   "execution_count": 50,
   "metadata": {},
   "outputs": [
    {
     "output_type": "stream",
     "name": "stdout",
     "text": [
      "9\n"
     ]
    }
   ],
   "source": [
    "grid = [['1','1','0','1','1','0'],['1','1','0','1','1','0'],['1','1','1','1','1','1'],['1','1','1','1','0','1']]\n",
    "n = len(grid)\n",
    "m = len(grid[0])\n",
    "\n",
    "que = deque([(0,0)])\n",
    "grid[0][0] = 1\n",
    "\n",
    "dx = [1, 0, -1, 0]\n",
    "dy = [0, 1, 0, -1]\n",
    "\n",
    "while que: \n",
    "    x, y = que.popleft()\n",
    "    if x == n-1 and y == m-1:\n",
    "        break\n",
    "    \n",
    "    for i in range(4):\n",
    "        nx, ny = x + dx[i], y + dy[i]\n",
    "        if 0 <= nx < n and 0 <= ny < m and grid[nx][ny] == '1':\n",
    "            que.append((nx, ny))\n",
    "            grid[nx][ny] = grid[x][y] + 1\n",
    "\n",
    "print(grid[-1][-1])"
   ]
  },
  {
   "cell_type": "code",
   "execution_count": 49,
   "metadata": {},
   "outputs": [
    {
     "output_type": "stream",
     "name": "stdout",
     "text": [
      "9\n"
     ]
    }
   ],
   "source": [
    "grid = [['1','1','0','1','1','0'],['1','1','0','1','1','0'],['1','1','1','1','1','1'],['1','1','1','1','0','1']]\n",
    "n = len(grid)\n",
    "m = len(grid[0])\n",
    "que = deque([(0,0)])\n",
    "grid[0][0] = 1\n",
    "\n",
    "\n",
    "while que: \n",
    "    x, y = que.popleft()\n",
    "    if x == n-1 and y == m-1:\n",
    "        break\n",
    "    \n",
    "    if x-1 >= 0 and grid[x-1][y] == '1':\n",
    "        que.append((x-1, y))\n",
    "        grid[x-1][y] = grid[x][y] + 1\n",
    "    if x+1 < n and grid[x+1][y] == '1':\n",
    "        que.append((x+1, y))\n",
    "        grid[x+1][y] = grid[x][y] + 1\n",
    "    if y-1 >= 0 and grid[x][y-1] == '1':\n",
    "        que.append((x, y-1))\n",
    "        grid[x][y-1] = grid[x][y] + 1\n",
    "    if y+1 < m and grid[x][y+1] == '1':\n",
    "        que.append((x, y+1))\n",
    "        grid[x][y+1] = grid[x][y] + 1\n",
    "\n",
    "print(grid[-1][-1])"
   ]
  },
  {
   "cell_type": "code",
   "execution_count": null,
   "metadata": {},
   "outputs": [],
   "source": []
  }
 ]
}